{
 "cells": [
  {
   "cell_type": "code",
   "execution_count": 1,
   "metadata": {},
   "outputs": [
    {
     "data": {
      "text/plain": [
       "MatchingPursuit (generic function with 1 method)"
      ]
     },
     "execution_count": 1,
     "metadata": {},
     "output_type": "execute_result"
    }
   ],
   "source": [
    "#Function Matching Pursuit : \n",
    "#Signal Y, Dictionary D with normalized columns, number of non nul coefficients N-> list of coefficient and corresponding indices of a representation of Y in D\n",
    "function MatchingPursuit(Y,D,N)\n",
    "    R = Y #Residual\n",
    "    Dind = [i for i = 1:length(D[1,:])] #indices of non used columns of D\n",
    "    Coefs = [0] #Coefficients of Y in D\n",
    "    indices = [0] # indices correspondind to the coefficients of Y in D\n",
    "    for k = 1:N\n",
    "        a = -1\n",
    "        ind = -1\n",
    "        for i in Dind #Find the column g of D such as the inner product between R and g is maximum\n",
    "            innerProduct = R'*D[:,i] #warning : R and D[i,:] must be column vectors\n",
    "            if abs(innerProduct) > a\n",
    "                a = innerProduct\n",
    "                ind = i\n",
    "            end\n",
    "        end\n",
    "        Dind = filter!(x->x≠ind,Dind)\n",
    "        R = Y - a.*D[:,ind]\n",
    "        Coefs = [Coefs a]\n",
    "        indices = [indices ind]\n",
    "    end\n",
    "    return Coefs[2:end]', indices[2:end]'\n",
    "end"
   ]
  },
  {
   "cell_type": "code",
   "execution_count": 2,
   "metadata": {},
   "outputs": [
    {
     "data": {
      "text/plain": [
       "([2.121320343559643 0.4999999999999998], [3 2])"
      ]
     },
     "execution_count": 2,
     "metadata": {},
     "output_type": "execute_result"
    }
   ],
   "source": [
    "Y = [1;2]\n",
    "D = [[1;0] [0;1] (2^(-0.5)).*[1;1]]\n",
    "\n",
    "coefs, indices = MatchingPursuit(Y,D,2)"
   ]
  },
  {
   "cell_type": "code",
   "execution_count": 14,
   "metadata": {},
   "outputs": [
    {
     "name": "stdout",
     "output_type": "stream",
     "text": [
      "2.179449471770337   2.23606797749979"
     ]
    }
   ],
   "source": [
    "using LinearAlgebra\n",
    "print(norm(coefs),\"   \",norm(Y))"
   ]
  },
  {
   "cell_type": "code",
   "execution_count": 15,
   "metadata": {},
   "outputs": [
    {
     "data": {
      "text/plain": [
       "init_dictionary (generic function with 1 method)"
      ]
     },
     "execution_count": 15,
     "metadata": {},
     "output_type": "execute_result"
    }
   ],
   "source": [
    "function init_dictionary(n::Int, K::Int)\n",
    "    # D must be a full-rank matrix\n",
    "    D = rand(n, K)\n",
    "    while rank(D) != min(n, K)\n",
    "        D = rand(n, K)\n",
    "    end\n",
    "\n",
    "    @inbounds for k in 1:K\n",
    "        D[:, k] ./= norm(@view(D[:, k]))\n",
    "    end\n",
    "    return D\n",
    "end"
   ]
  },
  {
   "cell_type": "code",
   "execution_count": 54,
   "metadata": {},
   "outputs": [
    {
     "data": {
      "text/plain": [
       "matching_pursuit"
      ]
     },
     "execution_count": 54,
     "metadata": {},
     "output_type": "execute_result"
    }
   ],
   "source": [
    "using DataStructures\n",
    "using SparseArrays\n",
    "\n",
    "# The implementation is referencing the wikipedia page\n",
    "# https://en.wikipedia.org/wiki/Matching_pursuit#The_algorithm\n",
    "\n",
    "const default_max_iter = 20\n",
    "const default_tolerance = 1e-6\n",
    "\n",
    "\n",
    "function SparseArrays.sparsevec(d::DefaultDict, m::Int)\n",
    "    SparseArrays.sparsevec(collect(keys(d)), collect(values(d)), m)\n",
    "end\n",
    "\n",
    "\n",
    "function matching_pursuit_(data::AbstractVector, dictionary::AbstractMatrix,\n",
    "                           max_iter::Int, tolerance::Float64)\n",
    "    n_atoms = size(dictionary, 2)\n",
    "\n",
    "    residual = copy(data)\n",
    "\n",
    "    xdict = DefaultDict{Int, Float64}(0.)\n",
    "    for i in 1:max_iter\n",
    "        if norm(residual) < tolerance\n",
    "            return sparsevec(xdict, n_atoms)\n",
    "        end\n",
    "\n",
    "        # find an atom with maximum inner product\n",
    "        products = dictionary' * residual\n",
    "        _, maxindex = findmax(abs.(products))\n",
    "        maxval = products[maxindex]\n",
    "        atom = dictionary[:, maxindex]\n",
    "\n",
    "        # c is the length of the projection of data onto atom\n",
    "        a = maxval / sum(abs2, atom)  # equivalent to maxval / norm(atom)^2\n",
    "        residual -= atom * a\n",
    "\n",
    "        xdict[maxindex] += a\n",
    "    end\n",
    "    return sparsevec(xdict, n_atoms)\n",
    "end\n",
    "\n",
    "\n",
    "\"\"\"\n",
    "    matching_pursuit(data::Vector, dictionary::AbstractMatrix;\n",
    "                     max_iter::Int = $default_max_iter,\n",
    "                     tolerance::Float64 = $default_tolerance)\n",
    "Find ``x`` such that ``Dx = y`` or ``Dx ≈ y`` where y is `data` and D is `dictionary`.\n",
    "```\n",
    "# Arguments\n",
    "* `max_iter`: Hard limit of iterations\n",
    "* `tolerance`: Exit when the norm of the residual < tolerance\n",
    "```\n",
    "\"\"\"\n",
    "function matching_pursuit(data::AbstractVector, dictionary::AbstractMatrix;\n",
    "                          max_iter::Int = default_max_iter,\n",
    "                          tolerance = default_tolerance)\n",
    "\n",
    "    if tolerance <= 0\n",
    "        throw(ArgumentError(\"`tolerance` must be > 0\"))\n",
    "    end\n",
    "\n",
    "    if max_iter <= 0\n",
    "        throw(ArgumentError(\"`max_iter` must be > 0\"))\n",
    "    end\n",
    "\n",
    "    if size(data, 1) != size(dictionary, 1)\n",
    "        throw(ArgumentError(\n",
    "            \"Dimensions must match: `size(data, 1)` and `size(dictionary, 1)`.\"\n",
    "        ))\n",
    "    end\n",
    "\n",
    "    matching_pursuit_(data, dictionary, max_iter, tolerance)\n",
    "end\n",
    "\n",
    "\n",
    "\"\"\"\n",
    "    matching_pursuit(data::AbstractMatrix, dictionary::AbstractMatrix;\n",
    "                     max_iter::Int = $default_max_iter,\n",
    "                     tolerance::Float64 = $default_tolerance)\n",
    "Find ``X`` such that ``DX = Y`` or ``DX ≈ Y`` where Y is `data` and D is `dictionary`.\n",
    "```\n",
    "# Arguments\n",
    "* `max_iter`: Hard limit of iterations\n",
    "* `tolerance`: Exit when the norm of the residual < tolerance\n",
    "```\n",
    "\"\"\"\n",
    "function matching_pursuit(data::AbstractMatrix, dictionary::AbstractMatrix;\n",
    "                          max_iter::Int = default_max_iter,\n",
    "                          tolerance::Float64 = default_tolerance)\n",
    "    K = size(dictionary, 2)\n",
    "    N = size(data, 2)\n",
    "\n",
    "    X = spzeros(K, N)\n",
    "\n",
    "    for i in 1:N\n",
    "        X[:, i] = matching_pursuit(\n",
    "            vec(data[:, i]),\n",
    "            dictionary,\n",
    "            max_iter = max_iter,\n",
    "            tolerance = tolerance\n",
    "        )\n",
    "    end\n",
    "    return X\n",
    "end"
   ]
  },
  {
   "cell_type": "code",
   "execution_count": 150,
   "metadata": {},
   "outputs": [
    {
     "data": {
      "text/plain": [
       "K_SVD (generic function with 1 method)"
      ]
     },
     "execution_count": 150,
     "metadata": {},
     "output_type": "execute_result"
    }
   ],
   "source": [
    "function K_SVD(Y,niter_KSVD,n_atoms,niter_MP)\n",
    "    D = init_dictionary(size(Y,1),n_atoms)\n",
    "    X = matching_pursuit(Y,D)\n",
    "    for i =1:niter_KSVD\n",
    "        X = matching_pursuit(Y,D)\n",
    "        for k=1:n_atoms\n",
    "            Xk = X[k,:]\n",
    "            all(iszero,Xk)&&continue\n",
    "            wk = findall(!iszero,Xk)\n",
    "            indices = [j for j=1:size(D,2) if j!=k]\n",
    "            Ek = Y - D[:,indices]*X[indices,:]\n",
    "            Ωk = sparse(wk,1:length(wk),ones(length(wk)),size(Y,2),length(wk))\n",
    "            U, S, V= svd(Ek*Ωk, full=true)\n",
    "            D[:,k]=U[:,1]\n",
    "            X[k,wk] = V[:,1]*S[1]\n",
    "        end\n",
    "    end\n",
    "    return D,X\n",
    "end"
   ]
  },
  {
   "cell_type": "code",
   "execution_count": 154,
   "metadata": {},
   "outputs": [
    {
     "data": {
      "text/plain": [
       "([0.6548226604063008 0.7705152295190294 … -0.6804577430973588 0.6759077643516734; 0.7557825635845368 0.6374215881810387 … -0.7327873223922813 0.7369862238123062], \n",
       "  [4 , 1]  =  2.23604\n",
       "  [16, 1]  =  0.011498\n",
       "  [17, 1]  =  -0.00887584\n",
       "  [16, 2]  =  -0.0952605\n",
       "  [17, 2]  =  0.104249\n",
       "  [19, 2]  =  -2.82649\n",
       "  [16, 3]  =  -0.142891\n",
       "  [17, 3]  =  0.156373\n",
       "  [19, 3]  =  -4.23974)"
      ]
     },
     "execution_count": 154,
     "metadata": {},
     "output_type": "execute_result"
    }
   ],
   "source": [
    "Y = [1 2 3;2 2 3]\n",
    "#D = [[1;0] [0;1] (2^(-0.5)).*[1;1]]\n",
    "\n",
    "Dic, X = K_SVD(Y,20,20,10)"
   ]
  },
  {
   "cell_type": "code",
   "execution_count": null,
   "metadata": {},
   "outputs": [],
   "source": []
  }
 ],
 "metadata": {
  "kernelspec": {
   "display_name": "Julia 1.3.1",
   "language": "julia",
   "name": "julia-1.3"
  },
  "language_info": {
   "file_extension": ".jl",
   "mimetype": "application/julia",
   "name": "julia",
   "version": "1.3.1"
  }
 },
 "nbformat": 4,
 "nbformat_minor": 2
}

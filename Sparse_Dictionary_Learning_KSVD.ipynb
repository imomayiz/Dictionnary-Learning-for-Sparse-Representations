{
 "cells": [
  {
   "cell_type": "code",
   "execution_count": 161,
   "metadata": {},
   "outputs": [
    {
     "data": {
      "text/plain": [
       "MatchingPursuit (generic function with 1 method)"
      ]
     },
     "execution_count": 161,
     "metadata": {},
     "output_type": "execute_result"
    }
   ],
   "source": [
    "#Function Matching Pursuit : \n",
    "#Signal Y, Dictionary D with normalized columns, number of non nul coefficients N-> list of coefficient and corresponding indices of a representation of Y in D\n",
    "function MatchingPursuit(Y,D,N)\n",
    "    R = Y #Residual\n",
    "    Dind = [i for i = 1:length(D[1,:])] #indices of non used columns of D\n",
    "    Coefs = [0] #Coefficients of Y in D\n",
    "    indices = [0] # indices correspondind to the coefficients of Y in D\n",
    "    for k = 1:N\n",
    "        a = -1\n",
    "        ind = -1\n",
    "        for i in Dind #Find the column g of D such as the inner product between R and g is maximum\n",
    "            innerProduct = R'*D[:,i] #warning : R and D[i,:] must be column vectors\n",
    "            if abs(innerProduct) > a\n",
    "                a = innerProduct\n",
    "                ind = i\n",
    "            end\n",
    "        end\n",
    "        Dind = filter!(x->x≠ind,Dind)\n",
    "        R = Y - a.*D[:,ind]\n",
    "        Coefs = [Coefs a]\n",
    "        indices = [indices ind]\n",
    "    end\n",
    "    return Coefs[2:end]', indices[2:end]'\n",
    "end"
   ]
  },
  {
   "cell_type": "code",
   "execution_count": 165,
   "metadata": {},
   "outputs": [
    {
     "data": {
      "text/plain": [
       "([2.121320343559643 0.4999999999999998], [3 2])"
      ]
     },
     "execution_count": 165,
     "metadata": {},
     "output_type": "execute_result"
    }
   ],
   "source": [
    "Y = [1;2]\n",
    "D = [[1;0] [0;1] (2^(-0.5)).*[1;1]]\n",
    "\n",
    "coefs, indices = MatchingPursuit(Y,D,2)"
   ]
  },
  {
   "cell_type": "code",
   "execution_count": 160,
   "metadata": {},
   "outputs": [
    {
     "name": "stdout",
     "output_type": "stream",
     "text": [
      "2.179449471770337   2.23606797749979"
     ]
    }
   ],
   "source": [
    "using LinearAlgebra\n",
    "print(norm(coefs),\"   \",norm(Y))"
   ]
  },
  {
   "cell_type": "code",
   "execution_count": null,
   "metadata": {},
   "outputs": [],
   "source": []
  }
 ],
 "metadata": {
  "kernelspec": {
   "display_name": "Julia 1.3.1",
   "language": "julia",
   "name": "julia-1.3"
  },
  "language_info": {
   "file_extension": ".jl",
   "mimetype": "application/julia",
   "name": "julia",
   "version": "1.3.1"
  }
 },
 "nbformat": 4,
 "nbformat_minor": 2
}

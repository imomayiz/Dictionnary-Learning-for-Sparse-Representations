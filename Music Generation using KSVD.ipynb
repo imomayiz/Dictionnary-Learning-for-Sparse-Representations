{
 "cells": [
  {
   "cell_type": "code",
   "execution_count": 12,
   "metadata": {},
   "outputs": [
    {
     "name": "stdout",
     "output_type": "stream",
     "text": [
      "\u001b[32m\u001b[1m Resolving\u001b[22m\u001b[39m package versions...\n",
      "\u001b[32m\u001b[1m  Updating\u001b[22m\u001b[39m `~/.julia/environments/v1.2/Project.toml`\n",
      "\u001b[90m [no changes]\u001b[39m\n",
      "\u001b[32m\u001b[1m  Updating\u001b[22m\u001b[39m `~/.julia/environments/v1.2/Manifest.toml`\n",
      "\u001b[90m [no changes]\u001b[39m\n",
      "\u001b[32m\u001b[1m Resolving\u001b[22m\u001b[39m package versions...\n",
      "\u001b[32m\u001b[1m Installed\u001b[22m\u001b[39m Glob ─ v1.2.0\n",
      "\u001b[32m\u001b[1m  Updating\u001b[22m\u001b[39m `~/.julia/environments/v1.2/Project.toml`\n",
      " \u001b[90m [c27321d9]\u001b[39m\u001b[92m + Glob v1.2.0\u001b[39m\n",
      "\u001b[32m\u001b[1m  Updating\u001b[22m\u001b[39m `~/.julia/environments/v1.2/Manifest.toml`\n",
      " \u001b[90m [c27321d9]\u001b[39m\u001b[92m + Glob v1.2.0\u001b[39m\n"
     ]
    }
   ],
   "source": [
    "using Pkg\n",
    "Pkg.add(\"WAV\")\n",
    "Pkg.add(\"Glob\")"
   ]
  },
  {
   "cell_type": "code",
   "execution_count": 43,
   "metadata": {},
   "outputs": [
    {
     "name": "stdout",
     "output_type": "stream",
     "text": [
      "\u001b[32m\u001b[1m Resolving\u001b[22m\u001b[39m package versions...\n",
      "\u001b[32m\u001b[1m  Updating\u001b[22m\u001b[39m `~/.julia/environments/v1.2/Project.toml`\n",
      " \u001b[90m [438e738f]\u001b[39m\u001b[92m + PyCall v1.91.3\u001b[39m\n",
      "\u001b[32m\u001b[1m  Updating\u001b[22m\u001b[39m `~/.julia/environments/v1.2/Manifest.toml`\n",
      "\u001b[90m [no changes]\u001b[39m\n",
      "\u001b[32m\u001b[1m Resolving\u001b[22m\u001b[39m package versions...\n",
      "\u001b[32m\u001b[1m  Updating\u001b[22m\u001b[39m `~/.julia/environments/v1.2/Project.toml`\n",
      " \u001b[90m [864edb3b]\u001b[39m\u001b[92m + DataStructures v0.17.10\u001b[39m\n",
      "\u001b[32m\u001b[1m  Updating\u001b[22m\u001b[39m `~/.julia/environments/v1.2/Manifest.toml`\n",
      "\u001b[90m [no changes]\u001b[39m\n",
      "\u001b[32m\u001b[1m Resolving\u001b[22m\u001b[39m package versions...\n",
      "\u001b[32m\u001b[1m  Updating\u001b[22m\u001b[39m `~/.julia/environments/v1.2/Project.toml`\n",
      " \u001b[90m [2f01184e]\u001b[39m\u001b[92m + SparseArrays \u001b[39m\n",
      "\u001b[32m\u001b[1m  Updating\u001b[22m\u001b[39m `~/.julia/environments/v1.2/Manifest.toml`\n",
      "\u001b[90m [no changes]\u001b[39m\n",
      "\u001b[32m\u001b[1m Resolving\u001b[22m\u001b[39m package versions...\n",
      "\u001b[32m\u001b[1m Installed\u001b[22m\u001b[39m ProgressBars ─ v0.6.0\n",
      "\u001b[32m\u001b[1m  Updating\u001b[22m\u001b[39m `~/.julia/environments/v1.2/Project.toml`\n",
      " \u001b[90m [49802e3a]\u001b[39m\u001b[92m + ProgressBars v0.6.0\u001b[39m\n",
      "\u001b[32m\u001b[1m  Updating\u001b[22m\u001b[39m `~/.julia/environments/v1.2/Manifest.toml`\n",
      " \u001b[90m [49802e3a]\u001b[39m\u001b[92m + ProgressBars v0.6.0\u001b[39m\n",
      "\u001b[32m\u001b[1m Resolving\u001b[22m\u001b[39m package versions...\n",
      "\u001b[32m\u001b[1m  Updating\u001b[22m\u001b[39m `~/.julia/environments/v1.2/Project.toml`\n",
      " \u001b[90m [8bb1440f]\u001b[39m\u001b[92m + DelimitedFiles \u001b[39m\n",
      "\u001b[32m\u001b[1m  Updating\u001b[22m\u001b[39m `~/.julia/environments/v1.2/Manifest.toml`\n",
      "\u001b[90m [no changes]\u001b[39m\n",
      "\u001b[32m\u001b[1m Resolving\u001b[22m\u001b[39m package versions...\n",
      "\u001b[32m\u001b[1m  Updating\u001b[22m\u001b[39m `~/.julia/environments/v1.2/Project.toml`\n",
      "\u001b[90m [no changes]\u001b[39m\n",
      "\u001b[32m\u001b[1m  Updating\u001b[22m\u001b[39m `~/.julia/environments/v1.2/Manifest.toml`\n",
      "\u001b[90m [no changes]\u001b[39m\n",
      "\u001b[32m\u001b[1m Resolving\u001b[22m\u001b[39m package versions...\n",
      "\u001b[32m\u001b[1m  Updating\u001b[22m\u001b[39m `~/.julia/environments/v1.2/Project.toml`\n",
      "\u001b[90m [no changes]\u001b[39m\n",
      "\u001b[32m\u001b[1m  Updating\u001b[22m\u001b[39m `~/.julia/environments/v1.2/Manifest.toml`\n",
      "\u001b[90m [no changes]\u001b[39m\n"
     ]
    },
    {
     "name": "stderr",
     "output_type": "stream",
     "text": [
      "┌ Info: Recompiling stale cache file /homes/i18momay/.julia/compiled/v1.2/DataStructures/xKiwJ.ji for DataStructures [864edb3b-99cc-5e75-8d2d-829cb0a9cfe8]\n",
      "└ @ Base loading.jl:1240\n",
      "┌ Info: Precompiling ProgressBars [49802e3a-d2f1-5c88-81d8-b72133a6f568]\n",
      "└ @ Base loading.jl:1242\n",
      "┌ Info: Recompiling stale cache file /homes/i18momay/.julia/compiled/v1.2/PyCall/GkzkC.ji for PyCall [438e738f-606a-5dbb-bf0a-cddfbfd45ab0]\n",
      "└ @ Base loading.jl:1240\n",
      "┌ Info: Precompiling Plots [91a5bcdd-55d7-5caf-9e0b-520d859cae80]\n",
      "└ @ Base loading.jl:1242\n"
     ]
    }
   ],
   "source": [
    "Pkg.add(\"PyCall\")\n",
    "Pkg.add(\"DataStructures\")\n",
    "Pkg.add(\"SparseArrays\")\n",
    "Pkg.add(\"ProgressBars\")\n",
    "Pkg.add(\"DelimitedFiles\")\n",
    "Pkg.add(\"Plots\")\n",
    "Pkg.add(\"Images\")\n"
   ]
  },
  {
   "cell_type": "code",
   "execution_count": 2,
   "metadata": {},
   "outputs": [],
   "source": [
    "using DataStructures\n",
    "using SparseArrays\n",
    "using LinearAlgebra\n",
    "using ProgressBars\n",
    "using PyCall\n",
    "using Plots"
   ]
  },
  {
   "cell_type": "code",
   "execution_count": 63,
   "metadata": {},
   "outputs": [
    {
     "name": "stdout",
     "output_type": "stream",
     "text": [
      "\u001b[32m\u001b[1m Resolving\u001b[22m\u001b[39m package versions...\n",
      "\u001b[32m\u001b[1m  Updating\u001b[22m\u001b[39m `~/.julia/environments/v1.2/Project.toml`\n",
      " \u001b[90m [7a1cc6ca]\u001b[39m\u001b[92m + FFTW v1.1.0\u001b[39m\n",
      "\u001b[32m\u001b[1m  Updating\u001b[22m\u001b[39m `~/.julia/environments/v1.2/Manifest.toml`\n",
      "\u001b[90m [no changes]\u001b[39m\n"
     ]
    }
   ],
   "source": [
    "Pkg.add(\"FFTW\")"
   ]
  },
  {
   "cell_type": "code",
   "execution_count": 3,
   "metadata": {},
   "outputs": [
    {
     "data": {
      "text/plain": [
       "init_dictionary (generic function with 1 method)"
      ]
     },
     "execution_count": 3,
     "metadata": {},
     "output_type": "execute_result"
    }
   ],
   "source": [
    "function init_dictionary(n::Int, K::Int)\n",
    "    \"\"\"\n",
    "    Initialize the dictionary.\n",
    "    Args: \n",
    "        n: dimension of input signal\n",
    "        k = number of atoms in the dictionary\n",
    "    \"\"\"\n",
    "    # D must be a full-rank matrix\n",
    "    D = rand(n, K)\n",
    "    while rank(D) != min(n, K)\n",
    "        D = rand(n, K)\n",
    "    end\n",
    "\n",
    "    @inbounds for k in 1:K\n",
    "        D[:, k] ./= norm(@view(D[:, k]))\n",
    "    end\n",
    "    return D\n",
    "end"
   ]
  },
  {
   "cell_type": "code",
   "execution_count": 4,
   "metadata": {},
   "outputs": [
    {
     "data": {
      "text/plain": [
       "matching_pursuit"
      ]
     },
     "execution_count": 4,
     "metadata": {},
     "output_type": "execute_result"
    }
   ],
   "source": [
    "# The implementation is referencing the wikipedia page\n",
    "# https://en.wikipedia.org/wiki/Matching_pursuit#The_algorithm\n",
    "\n",
    "const default_max_iter = 20\n",
    "const default_tolerance = 1e-6\n",
    "\n",
    "\n",
    "function SparseArrays.sparsevec(d::DefaultDict, m::Int)\n",
    "    SparseArrays.sparsevec(collect(keys(d)), collect(values(d)), m)\n",
    "end\n",
    "\n",
    "\n",
    "function matching_pursuit_(data::AbstractVector, dictionary::AbstractMatrix,\n",
    "                           max_iter::Int, tolerance::Float64)\n",
    "    n_atoms = size(dictionary, 2)\n",
    "\n",
    "    residual = copy(data)\n",
    "\n",
    "    xdict = DefaultDict{Int, Float64}(0.)\n",
    "    for i in 1:max_iter\n",
    "        if norm(residual) < tolerance\n",
    "            return sparsevec(xdict, n_atoms)\n",
    "        end\n",
    "\n",
    "        # find an atom with maximum inner product\n",
    "        products = dictionary' * residual\n",
    "        _, maxindex = findmax(abs.(products))\n",
    "        maxval = products[maxindex]\n",
    "        atom = dictionary[:, maxindex]\n",
    "\n",
    "        # c is the length of the projection of data onto atom\n",
    "        a = maxval / sum(abs2, atom)  # equivalent to maxval / norm(atom)^2\n",
    "        residual -= atom * a\n",
    "\n",
    "        xdict[maxindex] += a\n",
    "    end\n",
    "    return sparsevec(xdict, n_atoms)\n",
    "end\n",
    "\n",
    "\n",
    "\"\"\"\n",
    "    matching_pursuit(data::Vector, dictionary::AbstractMatrix;\n",
    "                     max_iter::Int = $default_max_iter,\n",
    "                     tolerance::Float64 = $default_tolerance)\n",
    "Find ``x`` such that ``Dx = y`` or ``Dx ≈ y`` where y is `data` and D is `dictionary`.\n",
    "```\n",
    "# Arguments\n",
    "* `max_iter`: Hard limit of iterations\n",
    "* `tolerance`: Exit when the norm of the residual < tolerance\n",
    "```\n",
    "\"\"\"\n",
    "function matching_pursuit(data::AbstractVector, dictionary::AbstractMatrix;\n",
    "                          max_iter::Int = default_max_iter,\n",
    "                          tolerance = default_tolerance)\n",
    "\n",
    "    if tolerance <= 0\n",
    "        throw(ArgumentError(\"`tolerance` must be > 0\"))\n",
    "    end\n",
    "\n",
    "    if max_iter <= 0\n",
    "        throw(ArgumentError(\"`max_iter` must be > 0\"))\n",
    "    end\n",
    "\n",
    "    if size(data, 1) != size(dictionary, 1)\n",
    "        throw(ArgumentError(\n",
    "            \"Dimensions must match: `size(data, 1)` and `size(dictionary, 1)`.\"\n",
    "        ))\n",
    "    end\n",
    "\n",
    "    matching_pursuit_(data, dictionary, max_iter, tolerance)\n",
    "end\n",
    "\n",
    "\n",
    "\"\"\"\n",
    "    matching_pursuit(data::AbstractMatrix, dictionary::AbstractMatrix;\n",
    "                     max_iter::Int = $default_max_iter,\n",
    "                     tolerance::Float64 = $default_tolerance)\n",
    "Find ``X`` such that ``DX = Y`` or ``DX ≈ Y`` where Y is `data` and D is `dictionary`.\n",
    "```\n",
    "# Arguments\n",
    "* `max_iter`: Hard limit of iterations\n",
    "* `tolerance`: Exit when the norm of the residual < tolerance\n",
    "```\n",
    "\"\"\"\n",
    "function matching_pursuit(data::AbstractMatrix, dictionary::AbstractMatrix;\n",
    "                          max_iter::Int = default_max_iter,\n",
    "                          tolerance::Float64 = default_tolerance)\n",
    "    K = size(dictionary, 2)\n",
    "    N = size(data, 2)\n",
    "\n",
    "    X = spzeros(K, N)\n",
    "\n",
    "    for i in 1:N\n",
    "        X[:, i] = matching_pursuit(\n",
    "            vec(data[:, i]),\n",
    "            dictionary,\n",
    "            max_iter = max_iter,\n",
    "            tolerance = tolerance\n",
    "        )\n",
    "    end\n",
    "    return X\n",
    "end"
   ]
  },
  {
   "cell_type": "code",
   "execution_count": 5,
   "metadata": {},
   "outputs": [
    {
     "data": {
      "text/plain": [
       "K_SVD (generic function with 1 method)"
      ]
     },
     "execution_count": 5,
     "metadata": {},
     "output_type": "execute_result"
    }
   ],
   "source": [
    "function K_SVD(Y,niter_KSVD,n_atoms)\n",
    "    \"\"\"\n",
    "    Computes the K-SVD algorithm.\n",
    "    \n",
    "    Args:\n",
    "    Y - \n",
    "    niter_KSVD: number of iterations for the algorithm\n",
    "    n_atoms - number of atoms in the dictionary\n",
    "    returns: Dictionary (D) and Sparse coefficients (X) \n",
    "    \n",
    "    \"\"\"\n",
    "    D = init_dictionary(size(Y,1),n_atoms)\n",
    "    X = matching_pursuit(Y,D)\n",
    "    for i in ProgressBar(1:niter_KSVD)\n",
    "        X = matching_pursuit(Y,D)\n",
    "        for k=1:n_atoms\n",
    "            Xk = X[k,:]\n",
    "            all(iszero,Xk)&&continue\n",
    "            wk = findall(!iszero,Xk)\n",
    "            indices = [j for j=1:size(D,2) if j!=k]\n",
    "            Ek = Y - D[:,indices]*X[indices,:]\n",
    "            Ωk = sparse(wk,1:length(wk),ones(length(wk)),size(Y,2),length(wk))\n",
    "            U, S, V= svd(Ek*Ωk, full=true)\n",
    "            D[:,k]=U[:,1]\n",
    "            X[k,wk] = V[:,1]*S[1]\n",
    "        end\n",
    "    end\n",
    "    return D,X\n",
    "end"
   ]
  },
  {
   "cell_type": "code",
   "execution_count": 8,
   "metadata": {},
   "outputs": [],
   "source": [
    "using WAV\n",
    "using Glob\n",
    "using FFTW\n",
    "\n",
    "crop_size = 110250\n",
    "Y = zeros(crop_size,622)\n",
    "dir = \"dataset1/\"\n",
    "for (i,file) in enumerate(glob(\"*.wav\"))\n",
    "    x,f = wavread(file)\n",
    "    if length(x)<crop_size\n",
    "        x = [x;zeros(crop_size-length(x))]\n",
    "    else\n",
    "        x = x[1:crop_size]\n",
    "    end\n",
    "    Y[:,i] = x\n",
    "end\n",
    "    "
   ]
  },
  {
   "cell_type": "code",
   "execution_count": 12,
   "metadata": {},
   "outputs": [
    {
     "name": "stdout",
     "output_type": "stream",
     "text": [
      "100.0%┣██████████████████████████████████████████████████████████████┫ 50/50 [05:17<00:00, 0.2 it/s]\n"
     ]
    },
    {
     "data": {
      "text/plain": [
       "([0.005905981549478146 0.000605899833697591 … 0.0045301073029107705 0.012889371834577452; 0.006028933002479242 0.010813532556569166 … 0.0002763712308579338 0.007185824492915112; … ; 0.006619791967986195 0.006780331856643526 … 0.005134017935574679 0.001233689667777589; 0.014418664389293312 0.007612604874839575 … 0.007795986937378847 0.003580751503581158],   [3  ]  =  12.8795\n",
       "  [51 ]  =  0.00241869\n",
       "  [73 ]  =  0.000670669\n",
       "  [95 ]  =  0.00178349\n",
       "  [165]  =  0.00150925\n",
       "  [194]  =  0.00981407\n",
       "  [208]  =  0.162918\n",
       "  [216]  =  0.000504619)"
      ]
     },
     "execution_count": 12,
     "metadata": {},
     "output_type": "execute_result"
    }
   ],
   "source": [
    "y = Y[:,1]\n",
    "D,X = K_SVD(y[findmax(y)[2]-6000:findmax(y)[2]+6020],50,256)"
   ]
  },
  {
   "cell_type": "code",
   "execution_count": 15,
   "metadata": {},
   "outputs": [],
   "source": [
    "sign_reconstructed = D*X\n",
    "wavwrite(sign_reconstructed, \"reconstructed.wav\", Fs=44100)"
   ]
  },
  {
   "cell_type": "code",
   "execution_count": 17,
   "metadata": {},
   "outputs": [],
   "source": [
    "S = zeros(size(y))\n",
    "S[3] = 12.8795\n",
    "S[51] = 0.00241869\n",
    "S[73] = 0.000670669\n",
    "S[95] = 0.00178349\n",
    "S[165] = 0.00150925\n",
    "S[194] = 0.00981407\n",
    "S[208] = 0.162918\n",
    "S[216] = 0.000504619\n",
    "wavwrite(5*S, \"S.wav\", Fs=44100)"
   ]
  },
  {
   "cell_type": "code",
   "execution_count": null,
   "metadata": {},
   "outputs": [],
   "source": [
    "# Find D and X such that Y ≈ DX\n",
    "\n",
    "println(\"||Y - D * X|| = $(norm(Y - D * X))\")\n",
    "\n",
    "println(\"The ratio of zero elemnts in the matrix X: \",\n",
    "        sum(X .== 0) / length(X))"
   ]
  }
 ],
 "metadata": {
  "kernelspec": {
   "display_name": "Julia 1.2.0",
   "language": "julia",
   "name": "julia-1.2"
  },
  "language_info": {
   "file_extension": ".jl",
   "mimetype": "application/julia",
   "name": "julia",
   "version": "1.2.0"
  }
 },
 "nbformat": 4,
 "nbformat_minor": 2
}

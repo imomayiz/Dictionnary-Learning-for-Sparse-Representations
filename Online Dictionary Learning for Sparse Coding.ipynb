{
 "cells": [
  {
   "cell_type": "markdown",
   "metadata": {},
   "source": [
    "Julia implementation of the paper _\"Online Dictionary Learning for Sparse Coding\"_"
   ]
  },
  {
   "cell_type": "code",
   "execution_count": 1,
   "metadata": {},
   "outputs": [
    {
     "name": "stdout",
     "output_type": "stream",
     "text": [
      "\u001b[32m\u001b[1m  Updating\u001b[22m\u001b[39m registry at `~/.julia/registries/General`\n",
      "\u001b[32m\u001b[1m  Updating\u001b[22m\u001b[39m git-repo `https://github.com/JuliaRegistries/General.git`\n",
      "\u001b[2K\u001b[?25h[1mFetching:\u001b[22m\u001b[39m [========================================>]  100.0 %.0 %\u001b[32m\u001b[1m Resolving\u001b[22m\u001b[39m package versions...\n",
      "\u001b[32m\u001b[1m  Updating\u001b[22m\u001b[39m `~/.julia/environments/v1.2/Project.toml`\n",
      "\u001b[90m [no changes]\u001b[39m\n",
      "\u001b[32m\u001b[1m  Updating\u001b[22m\u001b[39m `~/.julia/environments/v1.2/Manifest.toml`\n",
      "\u001b[90m [no changes]\u001b[39m\n",
      "\u001b[32m\u001b[1m Resolving\u001b[22m\u001b[39m package versions...\n",
      "\u001b[32m\u001b[1m  Updating\u001b[22m\u001b[39m `~/.julia/environments/v1.2/Project.toml`\n",
      "\u001b[90m [no changes]\u001b[39m\n",
      "\u001b[32m\u001b[1m  Updating\u001b[22m\u001b[39m `~/.julia/environments/v1.2/Manifest.toml`\n",
      "\u001b[90m [no changes]\u001b[39m\n",
      "\u001b[32m\u001b[1m Resolving\u001b[22m\u001b[39m package versions...\n",
      "\u001b[32m\u001b[1m  Updating\u001b[22m\u001b[39m `~/.julia/environments/v1.2/Project.toml`\n",
      "\u001b[90m [no changes]\u001b[39m\n",
      "\u001b[32m\u001b[1m  Updating\u001b[22m\u001b[39m `~/.julia/environments/v1.2/Manifest.toml`\n",
      "\u001b[90m [no changes]\u001b[39m\n",
      "\u001b[32m\u001b[1m Resolving\u001b[22m\u001b[39m package versions...\n",
      "\u001b[32m\u001b[1m  Updating\u001b[22m\u001b[39m `~/.julia/environments/v1.2/Project.toml`\n",
      "\u001b[90m [no changes]\u001b[39m\n",
      "\u001b[32m\u001b[1m  Updating\u001b[22m\u001b[39m `~/.julia/environments/v1.2/Manifest.toml`\n",
      "\u001b[90m [no changes]\u001b[39m\n",
      "\u001b[32m\u001b[1m Resolving\u001b[22m\u001b[39m package versions...\n",
      "\u001b[32m\u001b[1m  Updating\u001b[22m\u001b[39m `~/.julia/environments/v1.2/Project.toml`\n",
      "\u001b[90m [no changes]\u001b[39m\n",
      "\u001b[32m\u001b[1m  Updating\u001b[22m\u001b[39m `~/.julia/environments/v1.2/Manifest.toml`\n",
      "\u001b[90m [no changes]\u001b[39m\n",
      "\u001b[32m\u001b[1m Resolving\u001b[22m\u001b[39m package versions...\n",
      "\u001b[32m\u001b[1m  Updating\u001b[22m\u001b[39m `~/.julia/environments/v1.2/Project.toml`\n",
      "\u001b[90m [no changes]\u001b[39m\n",
      "\u001b[32m\u001b[1m  Updating\u001b[22m\u001b[39m `~/.julia/environments/v1.2/Manifest.toml`\n",
      "\u001b[90m [no changes]\u001b[39m\n",
      "\u001b[32m\u001b[1m Resolving\u001b[22m\u001b[39m package versions...\n",
      "\u001b[32m\u001b[1m  Updating\u001b[22m\u001b[39m `~/.julia/environments/v1.2/Project.toml`\n",
      "\u001b[90m [no changes]\u001b[39m\n",
      "\u001b[32m\u001b[1m  Updating\u001b[22m\u001b[39m `~/.julia/environments/v1.2/Manifest.toml`\n",
      "\u001b[90m [no changes]\u001b[39m\n"
     ]
    }
   ],
   "source": [
    "using Pkg\n",
    "Pkg.add(\"PyCall\") \n",
    "Pkg.add(\"DataStructures\")\n",
    "Pkg.add(\"SparseArrays\")\n",
    "Pkg.add(\"ProgressBars\")\n",
    "Pkg.add(\"DelimitedFiles\")\n",
    "Pkg.add(\"Plots\")\n",
    "Pkg.add(\"Images\")\n"
   ]
  },
  {
   "cell_type": "code",
   "execution_count": 2,
   "metadata": {},
   "outputs": [],
   "source": [
    "using DataStructures\n",
    "using SparseArrays\n",
    "using LinearAlgebra\n",
    "using ProgressBars\n",
    "using PyCall\n",
    "using Plots"
   ]
  },
  {
   "cell_type": "code",
   "execution_count": 3,
   "metadata": {},
   "outputs": [],
   "source": [
    "# importing LARS from scikit-learn\n",
    "\n",
    "using PyCall\n",
    "lars = pyimport(\"sklearn.linear_model\");\n",
    "Lars = lars.Lars();"
   ]
  },
  {
   "cell_type": "code",
   "execution_count": 4,
   "metadata": {},
   "outputs": [
    {
     "data": {
      "text/plain": [
       "init_dictionary (generic function with 1 method)"
      ]
     },
     "execution_count": 4,
     "metadata": {},
     "output_type": "execute_result"
    }
   ],
   "source": [
    "function init_dictionary(n::Int, K::Int)\n",
    "    \"\"\"\n",
    "    Initialize the dictionary.\n",
    "    Args: \n",
    "        n: dimension of input signal\n",
    "        k = number of atoms in the dictionary\n",
    "    \"\"\"\n",
    "    # D must be a full-rank matrix\n",
    "    D = rand(n, K)\n",
    "    while rank(D) != min(n, K)\n",
    "        D = rand(n, K)\n",
    "    end\n",
    "\n",
    "    @inbounds for k in 1:K\n",
    "        D[:, k] ./= norm(@view(D[:, k]))\n",
    "    end\n",
    "    return D\n",
    "end"
   ]
  },
  {
   "cell_type": "code",
   "execution_count": 5,
   "metadata": {},
   "outputs": [
    {
     "data": {
      "text/plain": [
       "generate_random_vec (generic function with 1 method)"
      ]
     },
     "execution_count": 5,
     "metadata": {},
     "output_type": "execute_result"
    }
   ],
   "source": [
    "function generate_random_vec(number_of_samples)\n",
    "    return randn(number_of_samples,1)\n",
    "end"
   ]
  },
  {
   "cell_type": "code",
   "execution_count": 6,
   "metadata": {},
   "outputs": [
    {
     "data": {
      "text/plain": [
       "dictionary_update (generic function with 1 method)"
      ]
     },
     "execution_count": 6,
     "metadata": {},
     "output_type": "execute_result"
    }
   ],
   "source": [
    "function dictionary_update(D,A,B,threshold)\n",
    "    \"\"\"\n",
    "    This is the so called algorithm2 in the paper.\n",
    "    \"\"\"\n",
    "    # print(\"Entering Dictionary Update\")\n",
    "    D_old = ones(size(D))\n",
    "    iter = 0\n",
    "    while iter < 100\n",
    "        for j=1:size(A)[2]\n",
    "          u = (1/A[j,j])*(B[:,j]-D*A[:,j]) + D[:,j]\n",
    "          D[:,j] = (1/max(norm(u,2),1))*u\n",
    "        end\n",
    "    iter+=1\n",
    "    end\n",
    "    return D\n",
    "end"
   ]
  },
  {
   "cell_type": "code",
   "execution_count": 7,
   "metadata": {},
   "outputs": [
    {
     "data": {
      "text/plain": [
       "Algorithm1 (generic function with 1 method)"
      ]
     },
     "execution_count": 7,
     "metadata": {},
     "output_type": "execute_result"
    }
   ],
   "source": [
    "function Algorithm1(data,number_iterations,n_atoms)\n",
    "    \"\"\"\n",
    "    Implements the first algorithm.\n",
    "    \n",
    "    Args:\n",
    "    \n",
    "    initial_dict: initial dictionary\n",
    "    number_iterations: number of iterations\n",
    "    \"\"\"\n",
    "    dim_input = size(data)[1]\n",
    "    threshold = 10\n",
    "    D = init_dictionary(dim_input,n_atoms)\n",
    "    A = zeros((n_atoms,n_atoms))\n",
    "    B = zeros((dim_input,n_atoms))\n",
    "    alpha = ones((n_atoms,1))\n",
    "    for t in ProgressBar(1:number_iterations)\n",
    "        x = generate_random_vec(dim_input)\n",
    "        Lars.fit(reshape(D*alpha,(dim_input,1)),x)\n",
    "        alpha = Lars.predict(reshape(alpha,(n_atoms,1)))\n",
    "        A+= reshape(alpha,(n_atoms,1))*transpose(alpha)\n",
    "        B+= reshape(x,(dim_input,1))*transpose(alpha)\n",
    "        #print(\"A: \",A)\n",
    "        #print(\"B: \",B)\n",
    "        D = dictionary_update(D,A,B,threshold)\n",
    "    end\n",
    "    return D\n",
    "end"
   ]
  },
  {
   "cell_type": "code",
   "execution_count": 8,
   "metadata": {},
   "outputs": [
    {
     "data": {
      "text/plain": [
       "matching_pursuit"
      ]
     },
     "execution_count": 8,
     "metadata": {},
     "output_type": "execute_result"
    }
   ],
   "source": [
    "# The implementation is referencing the wikipedia page\n",
    "# https://en.wikipedia.org/wiki/Matching_pursuit#The_algorithm\n",
    "\n",
    "const default_max_iter = 20\n",
    "const default_tolerance = 1e-6\n",
    "\n",
    "\n",
    "function SparseArrays.sparsevec(d::DefaultDict, m::Int)\n",
    "    SparseArrays.sparsevec(collect(keys(d)), collect(values(d)), m)\n",
    "end\n",
    "\n",
    "\n",
    "function matching_pursuit_(data::AbstractVector, dictionary::AbstractMatrix,\n",
    "                           max_iter::Int, tolerance::Float64)\n",
    "    n_atoms = size(dictionary, 2)\n",
    "\n",
    "    residual = copy(data)\n",
    "\n",
    "    xdict = DefaultDict{Int, Float64}(0.)\n",
    "    for i in 1:max_iter\n",
    "        if norm(residual) < tolerance\n",
    "            return sparsevec(xdict, n_atoms)\n",
    "        end\n",
    "\n",
    "        # find an atom with maximum inner product\n",
    "        products = dictionary' * residual\n",
    "        _, maxindex = findmax(abs.(products))\n",
    "        maxval = products[maxindex]\n",
    "        atom = dictionary[:, maxindex]\n",
    "\n",
    "        # c is the length of the projection of data onto atom\n",
    "        a = maxval / sum(abs2, atom)  # equivalent to maxval / norm(atom)^2\n",
    "        residual -= atom * a\n",
    "\n",
    "        xdict[maxindex] += a\n",
    "    end\n",
    "    return sparsevec(xdict, n_atoms)\n",
    "end\n",
    "\n",
    "\n",
    "\"\"\"\n",
    "    matching_pursuit(data::Vector, dictionary::AbstractMatrix;\n",
    "                     max_iter::Int = $default_max_iter,\n",
    "                     tolerance::Float64 = $default_tolerance)\n",
    "Find ``x`` such that ``Dx = y`` or ``Dx ≈ y`` where y is `data` and D is `dictionary`.\n",
    "```\n",
    "# Arguments\n",
    "* `max_iter`: Hard limit of iterations\n",
    "* `tolerance`: Exit when the norm of the residual < tolerance\n",
    "```\n",
    "\"\"\"\n",
    "function matching_pursuit(data::AbstractVector, dictionary::AbstractMatrix;\n",
    "                          max_iter::Int = default_max_iter,\n",
    "                          tolerance = default_tolerance)\n",
    "\n",
    "    if tolerance <= 0\n",
    "        throw(ArgumentError(\"`tolerance` must be > 0\"))\n",
    "    end\n",
    "\n",
    "    if max_iter <= 0\n",
    "        throw(ArgumentError(\"`max_iter` must be > 0\"))\n",
    "    end\n",
    "\n",
    "    if size(data, 1) != size(dictionary, 1)\n",
    "        throw(ArgumentError(\n",
    "            \"Dimensions must match: `size(data, 1)` and `size(dictionary, 1)`.\"\n",
    "        ))\n",
    "    end\n",
    "\n",
    "    matching_pursuit_(data, dictionary, max_iter, tolerance)\n",
    "end\n",
    "\n",
    "\n",
    "\"\"\"\n",
    "    matching_pursuit(data::AbstractMatrix, dictionary::AbstractMatrix;\n",
    "                     max_iter::Int = $default_max_iter,\n",
    "                     tolerance::Float64 = $default_tolerance)\n",
    "Find ``X`` such that ``DX = Y`` or ``DX ≈ Y`` where Y is `data` and D is `dictionary`.\n",
    "```\n",
    "# Arguments\n",
    "* `max_iter`: Hard limit of iterations\n",
    "* `tolerance`: Exit when the norm of the residual < tolerance\n",
    "```\n",
    "\"\"\"\n",
    "function matching_pursuit(data::AbstractMatrix, dictionary::AbstractMatrix;\n",
    "                          max_iter::Int = default_max_iter,\n",
    "                          tolerance::Float64 = default_tolerance)\n",
    "    K = size(dictionary, 2)\n",
    "    N = size(data, 2)\n",
    "\n",
    "    X = spzeros(K, N)\n",
    "\n",
    "    for i in 1:N\n",
    "        X[:, i] = matching_pursuit(\n",
    "            vec(data[:, i]),\n",
    "            dictionary,\n",
    "            max_iter = max_iter,\n",
    "            tolerance = tolerance\n",
    "        )\n",
    "    end\n",
    "    return X\n",
    "end"
   ]
  },
  {
   "cell_type": "code",
   "execution_count": 9,
   "metadata": {},
   "outputs": [],
   "source": [
    "using DelimitedFiles\n",
    "\n",
    "\n",
    "data = readdlm(\"../CIFAR10_data.dlm\");\n",
    "labels = readdlm(\"../CIFAR10_labels.dlm\");"
   ]
  },
  {
   "cell_type": "code",
   "execution_count": 10,
   "metadata": {},
   "outputs": [
    {
     "name": "stdout",
     "output_type": "stream",
     "text": [
      "100.0%┣██████████████████████████████████████████████████████████████┫ 10/10 [02:54<00:00, 0.1 it/s]\n",
      "175.233193 seconds (34.01 M allocations: 86.633 GiB, 3.51% gc time)\n"
     ]
    }
   ],
   "source": [
    "@time D = Algorithm1(data[1:100,:],10,3000);"
   ]
  },
  {
   "cell_type": "code",
   "execution_count": 17,
   "metadata": {},
   "outputs": [
    {
     "data": {
      "text/plain": [
       "3000×1024 SparseMatrixCSC{Float64,Int64} with 181470 stored entries:\n",
       "  [1361,    1]  =  -1464.67\n",
       "  [1393,    1]  =  -136.203\n",
       "  [1394,    1]  =  1.34941\n",
       "  [1406,    1]  =  1.07464\n",
       "  [1411,    1]  =  2.53076\n",
       "  [1424,    1]  =  1.94482\n",
       "  [1437,    1]  =  1.92397\n",
       "  [1438,    1]  =  46.091\n",
       "  [1447,    1]  =  2.83491\n",
       "  [1467,    1]  =  2.72766\n",
       "  [1468,    1]  =  -88.9091\n",
       "  [1483,    1]  =  -173.137\n",
       "  ⋮\n",
       "  [2898, 1024]  =  -9.46408\n",
       "  [2899, 1024]  =  5.17171\n",
       "  [2921, 1024]  =  -14.2971\n",
       "  [2928, 1024]  =  -6.5412\n",
       "  [2934, 1024]  =  -3.16134\n",
       "  [2939, 1024]  =  -0.77082\n",
       "  [2948, 1024]  =  -5.35732\n",
       "  [2959, 1024]  =  -0.61133\n",
       "  [2963, 1024]  =  -34.5683\n",
       "  [2969, 1024]  =  130.107\n",
       "  [2972, 1024]  =  214.422\n",
       "  [2978, 1024]  =  -163.678\n",
       "  [2981, 1024]  =  1.05868"
      ]
     },
     "execution_count": 17,
     "metadata": {},
     "output_type": "execute_result"
    }
   ],
   "source": [
    "X = matching_pursuit(data[101:200,:],D,max_iter=300);\n",
    "X"
   ]
  },
  {
   "cell_type": "code",
   "execution_count": 21,
   "metadata": {},
   "outputs": [],
   "source": [
    "img = (D*X)[70,:];\n",
    "img2 = data[170,:];"
   ]
  },
  {
   "cell_type": "code",
   "execution_count": 22,
   "metadata": {},
   "outputs": [],
   "source": [
    "plt = pyimport(\"matplotlib.pyplot\");\n",
    "plt.imshow(reshape(img2,(32,32)),cmap=\"gray\")\n",
    "plt.figure()\n",
    "plt.imshow(reshape(img,(32,32)),cmap=\"gray\")\n",
    "plt.show()"
   ]
  },
  {
   "cell_type": "code",
   "execution_count": 23,
   "metadata": {},
   "outputs": [],
   "source": [
    "#writedlm(\"dlm_files/CIFAR10_dict.dlm\",D)"
   ]
  }
 ],
 "metadata": {
  "kernelspec": {
   "display_name": "Julia 1.2.0",
   "language": "julia",
   "name": "julia-1.2"
  },
  "language_info": {
   "file_extension": ".jl",
   "mimetype": "application/julia",
   "name": "julia",
   "version": "1.2.0"
  }
 },
 "nbformat": 4,
 "nbformat_minor": 2
}

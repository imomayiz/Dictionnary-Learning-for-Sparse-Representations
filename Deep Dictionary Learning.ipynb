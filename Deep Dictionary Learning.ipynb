{
 "cells": [
  {
   "cell_type": "markdown",
   "metadata": {},
   "source": [
    "## Deep Dictionary Learning implementation"
   ]
  },
  {
   "cell_type": "markdown",
   "metadata": {},
   "source": [
    "Julia implementation of the paper avaliable at: \n",
    "\n",
    "https://arxiv.org/pdf/1602.00203.pdf"
   ]
  },
  {
   "cell_type": "code",
   "execution_count": 81,
   "metadata": {},
   "outputs": [
    {
     "name": "stdout",
     "output_type": "stream",
     "text": [
      "\u001b[32m\u001b[1m Resolving\u001b[22m\u001b[39m package versions...\n",
      "\u001b[32m\u001b[1m  Updating\u001b[22m\u001b[39m `~/.julia/environments/v1.2/Project.toml`\n",
      "\u001b[90m [no changes]\u001b[39m\n",
      "\u001b[32m\u001b[1m  Updating\u001b[22m\u001b[39m `~/.julia/environments/v1.2/Manifest.toml`\n",
      "\u001b[90m [no changes]\u001b[39m\n",
      "\u001b[32m\u001b[1m Resolving\u001b[22m\u001b[39m package versions...\n",
      "\u001b[32m\u001b[1m  Updating\u001b[22m\u001b[39m `~/.julia/environments/v1.2/Project.toml`\n",
      "\u001b[90m [no changes]\u001b[39m\n",
      "\u001b[32m\u001b[1m  Updating\u001b[22m\u001b[39m `~/.julia/environments/v1.2/Manifest.toml`\n",
      "\u001b[90m [no changes]\u001b[39m\n",
      "\u001b[32m\u001b[1m Resolving\u001b[22m\u001b[39m package versions...\n",
      "\u001b[32m\u001b[1m  Updating\u001b[22m\u001b[39m `~/.julia/environments/v1.2/Project.toml`\n",
      "\u001b[90m [no changes]\u001b[39m\n",
      "\u001b[32m\u001b[1m  Updating\u001b[22m\u001b[39m `~/.julia/environments/v1.2/Manifest.toml`\n",
      "\u001b[90m [no changes]\u001b[39m\n",
      "\u001b[32m\u001b[1m Resolving\u001b[22m\u001b[39m package versions...\n",
      "\u001b[32m\u001b[1m  Updating\u001b[22m\u001b[39m `~/.julia/environments/v1.2/Project.toml`\n",
      "\u001b[90m [no changes]\u001b[39m\n",
      "\u001b[32m\u001b[1m  Updating\u001b[22m\u001b[39m `~/.julia/environments/v1.2/Manifest.toml`\n",
      "\u001b[90m [no changes]\u001b[39m\n",
      "\u001b[32m\u001b[1m Resolving\u001b[22m\u001b[39m package versions...\n",
      "\u001b[32m\u001b[1m  Updating\u001b[22m\u001b[39m `~/.julia/environments/v1.2/Project.toml`\n",
      "\u001b[90m [no changes]\u001b[39m\n",
      "\u001b[32m\u001b[1m  Updating\u001b[22m\u001b[39m `~/.julia/environments/v1.2/Manifest.toml`\n",
      "\u001b[90m [no changes]\u001b[39m\n",
      "\u001b[32m\u001b[1m Resolving\u001b[22m\u001b[39m package versions...\n",
      "\u001b[32m\u001b[1m  Updating\u001b[22m\u001b[39m `~/.julia/environments/v1.2/Project.toml`\n",
      "\u001b[90m [no changes]\u001b[39m\n",
      "\u001b[32m\u001b[1m  Updating\u001b[22m\u001b[39m `~/.julia/environments/v1.2/Manifest.toml`\n",
      "\u001b[90m [no changes]\u001b[39m\n",
      "\u001b[32m\u001b[1m Resolving\u001b[22m\u001b[39m package versions...\n",
      "\u001b[32m\u001b[1m  Updating\u001b[22m\u001b[39m `~/.julia/environments/v1.2/Project.toml`\n",
      "\u001b[90m [no changes]\u001b[39m\n",
      "\u001b[32m\u001b[1m  Updating\u001b[22m\u001b[39m `~/.julia/environments/v1.2/Manifest.toml`\n",
      "\u001b[90m [no changes]\u001b[39m\n"
     ]
    }
   ],
   "source": [
    "using Pkg\n",
    "Pkg.add(\"PyCall\")\n",
    "Pkg.add(\"DataStructures\")\n",
    "Pkg.add(\"SparseArrays\")\n",
    "Pkg.add(\"ProgressBars\")\n",
    "Pkg.add(\"DelimitedFiles\")\n",
    "Pkg.add(\"Plots\")\n",
    "Pkg.add(\"Images\")\n",
    "using DataStructures\n",
    "using SparseArrays\n",
    "using LinearAlgebra\n",
    "using ProgressBars\n",
    "using PyCall\n",
    "using Plots"
   ]
  },
  {
   "cell_type": "code",
   "execution_count": 82,
   "metadata": {},
   "outputs": [
    {
     "data": {
      "text/plain": [
       "init_dictionary (generic function with 1 method)"
      ]
     },
     "execution_count": 82,
     "metadata": {},
     "output_type": "execute_result"
    }
   ],
   "source": [
    "function init_dictionary(n::Int, K::Int)\n",
    "    \"\"\"\n",
    "    Initialize the dictionary.\n",
    "    Args: \n",
    "        n: dimension of input signal\n",
    "        k = number of atoms in the dictionary\n",
    "    \"\"\"\n",
    "    # D must be a full-rank matrix\n",
    "    D = rand(n, K)\n",
    "    while rank(D) != min(n, K)\n",
    "        D = rand(n, K)\n",
    "    end\n",
    "\n",
    "    @inbounds for k in 1:K\n",
    "        D[:, k] ./= norm(@view(D[:, k]))\n",
    "    end\n",
    "    return D\n",
    "end"
   ]
  },
  {
   "cell_type": "code",
   "execution_count": 215,
   "metadata": {},
   "outputs": [
    {
     "data": {
      "text/plain": [
       "dense_dict_learning (generic function with 1 method)"
      ]
     },
     "execution_count": 215,
     "metadata": {},
     "output_type": "execute_result"
    }
   ],
   "source": [
    "function dense_dict_learning(x,nb_iters,n_atoms)\n",
    "    \"\"\"\n",
    "    Computes a dense dictionary learned layer with the correspondent learned representation.\n",
    "    \n",
    "    Args:\n",
    "    x - features to learn\n",
    "    nb_iters: number of iterations for the algorithm\n",
    "    n_atoms - number of atoms in the dictionary\n",
    "    \n",
    "    returns: \n",
    "    Dictionary (D) and dense coefficients (Z)\n",
    "    \n",
    "    \"\"\"\n",
    "    \n",
    "    D = init_dictionary(size(x,1),n_atoms)\n",
    "    Z = zeros(n_atoms,size(x,2))\n",
    "    \n",
    "    Z = inv((transpose(D)*D))*transpose(D)*x\n",
    "    D = x*transpose(Z)*inv(Z*transpose(Z))\n",
    "\n",
    "    return D,Z\n",
    "    \n",
    "end"
   ]
  },
  {
   "cell_type": "code",
   "execution_count": 216,
   "metadata": {},
   "outputs": [],
   "source": [
    "#Define singular value soft thresholding (SVST)\n",
    "SVST = (X,beta) -> begin\n",
    "    U,s,V = svd(X)\n",
    "    sthresh = max.(s .- beta,0)\n",
    "    return U * Diagonal(sthresh) * V'\n",
    "end;"
   ]
  },
  {
   "cell_type": "code",
   "execution_count": 217,
   "metadata": {},
   "outputs": [
    {
     "data": {
      "text/plain": [
       "ISTA (generic function with 1 method)"
      ]
     },
     "execution_count": 217,
     "metadata": {},
     "output_type": "execute_result"
    }
   ],
   "source": [
    "function ISTA(y)\n",
    "    # Define cost function for optimization problem\n",
    "    Omega = y .!= 0\n",
    "    nucnorm = (X) -> sum(svdvals(X))\n",
    "    costfun = (X,beta) -> 0.5 * norm(X[Omega]-y[Omega])^2 + beta * nucnorm(X);\n",
    "    # Apply ISTA (Iterative Soft-Thresholding Algorithm)\n",
    "    niter = 400\n",
    "    X = copy(y)\n",
    "    Xold = copy(X)\n",
    "    beta = 0.01 \n",
    "    cost_ista = zeros(niter+1)\n",
    "    cost_ista[1] = costfun(X,beta)\n",
    "    for k in ProgressBar(1:niter)\n",
    "        X[Omega] = y[Omega]\n",
    "        X = SVST(X,beta)\n",
    "        cost_ista[k+1] = costfun(X,beta)\n",
    "    end\n",
    "    return X\n",
    "end"
   ]
  },
  {
   "cell_type": "markdown",
   "metadata": {},
   "source": [
    "Learning the sucessive dictionaries: _(Deep)_"
   ]
  },
  {
   "cell_type": "code",
   "execution_count": 218,
   "metadata": {},
   "outputs": [
    {
     "data": {
      "text/plain": [
       "learn (generic function with 1 method)"
      ]
     },
     "execution_count": 218,
     "metadata": {},
     "output_type": "execute_result"
    }
   ],
   "source": [
    "function learn(X)\n",
    "    nb_iters = 10\n",
    "    n_atoms = 100\n",
    "    D1,Z1 = dense_dict_learning(X,nb_iters,300)\n",
    "    D2,Z2 = dense_dict_learning(Z1,nb_iters,15)\n",
    "    Z3 = ISTA(Z2)\n",
    "    D3 = Z2*transpose(Z3)*inv(Z3*transpose(Z3))\n",
    "    \n",
    "    return D1,D2,D3,Z3\n",
    "end"
   ]
  },
  {
   "cell_type": "code",
   "execution_count": 219,
   "metadata": {},
   "outputs": [],
   "source": [
    "datasets = pyimport(\"sklearn.datasets\")\n",
    "digits = datasets.load_digits()\n",
    "Y = digits[\"data\"];"
   ]
  },
  {
   "cell_type": "code",
   "execution_count": 220,
   "metadata": {},
   "outputs": [
    {
     "name": "stdout",
     "output_type": "stream",
     "text": [
      "100.0%┣█████████████████████████████████████████████████████████┫ 400/400 [00:00<00:00, 1668.2 it/s]\n"
     ]
    }
   ],
   "source": [
    "D1,D2,D3,Z3 = learn(Y);"
   ]
  },
  {
   "cell_type": "code",
   "execution_count": 222,
   "metadata": {},
   "outputs": [],
   "source": [
    "using DelimitedFiles\n",
    "\n",
    "writedlm(\"dlm_files/dictionary_D1.dlm\", D1)\n",
    "writedlm(\"dlm_files/dictionary_D2.dlm\", D2)\n",
    "writedlm(\"dlm_files/dictionary_D3.dlm\", D3)\n",
    "writedlm(\"dlm_files/Z3.dlm\", Z3)"
   ]
  }
 ],
 "metadata": {
  "kernelspec": {
   "display_name": "Julia 1.2.0",
   "language": "julia",
   "name": "julia-1.2"
  },
  "language_info": {
   "file_extension": ".jl",
   "mimetype": "application/julia",
   "name": "julia",
   "version": "1.2.0"
  }
 },
 "nbformat": 4,
 "nbformat_minor": 2
}

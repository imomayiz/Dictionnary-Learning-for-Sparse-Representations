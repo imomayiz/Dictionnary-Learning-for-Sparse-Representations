{
 "cells": [
  {
   "cell_type": "markdown",
   "metadata": {},
   "source": [
    "## Deep Dictionary Learning implementation"
   ]
  },
  {
   "cell_type": "markdown",
   "metadata": {},
   "source": [
    "Julia implementation of the paper avaliable at: \n",
    "\n",
    "https://arxiv.org/pdf/1602.00203.pdf"
   ]
  },
  {
   "cell_type": "code",
   "execution_count": null,
   "metadata": {},
   "outputs": [],
   "source": [
    "using Pkg\n",
    "Pkg.add(\"PyCall\")\n",
    "Pkg.add(\"DataStructures\")\n",
    "Pkg.add(\"SparseArrays\")\n",
    "Pkg.add(\"ProgressBars\")\n",
    "Pkg.add(\"DelimitedFiles\")\n",
    "Pkg.add(\"Plots\")\n",
    "Pkg.add(\"Images\")\n",
    "using DataStructures\n",
    "using SparseArrays\n",
    "using LinearAlgebra\n",
    "using ProgressBars\n",
    "using PyCall\n",
    "using Plots"
   ]
  },
  {
   "cell_type": "code",
   "execution_count": null,
   "metadata": {},
   "outputs": [],
   "source": [
    "function init_dictionary(n::Int, K::Int)\n",
    "    \"\"\"\n",
    "    Initialize the dictionary.\n",
    "    Args: \n",
    "        n: dimension of input signal\n",
    "        k = number of atoms in the dictionary\n",
    "    \"\"\"\n",
    "    # D must be a full-rank matrix\n",
    "    D = rand(n, K)\n",
    "    while rank(D) != min(n, K)\n",
    "        D = rand(n, K)\n",
    "    end\n",
    "\n",
    "    @inbounds for k in 1:K\n",
    "        D[:, k] ./= norm(@view(D[:, k]))\n",
    "    end\n",
    "    return D\n",
    "end"
   ]
  },
  {
   "cell_type": "code",
   "execution_count": null,
   "metadata": {},
   "outputs": [],
   "source": [
    "function dense_dict_learning(x,nb_iters,n_atoms)\n",
    "    \"\"\"\n",
    "    Computes a dense dictionary learned layer with the correspondent learned representation.\n",
    "    \n",
    "    Args:\n",
    "    x - features to learn\n",
    "    nb_iters: number of iterations for the algorithm\n",
    "    n_atoms - number of atoms in the dictionary\n",
    "    \n",
    "    returns: \n",
    "    Dictionary (D) and dense coefficients (Z)\n",
    "    \n",
    "    \"\"\"\n",
    "    \n",
    "    D = init_dictionary(size(x,1),n_atoms)\n",
    "    Z = zeros(n_atoms,size(x,2))\n",
    "    \n",
    "    for i in ProgressBar(1:nb_iters)\n",
    "        Z = inv((transpose(D)*D))*transpose(D)*x\n",
    "        D = x*transpose(Z)*inv(Z*transpose(Z))\n",
    "    end\n",
    "    return D,Z\n",
    "    \n",
    "end"
   ]
  },
  {
   "cell_type": "code",
   "execution_count": null,
   "metadata": {},
   "outputs": [],
   "source": [
    "function sparse_dict_learning(x,nb_iters,n_atoms,λ,α)\n",
    "    \"\"\"\n",
    "    Computes a sparse dictionary learned layer with the correspondent learned representation,\n",
    "    trought the use of a regularizing term with respect to the l1_norm.\n",
    "    \n",
    "    Args:\n",
    "    x - features to learn\n",
    "    nb_iters: number of iterations for the algorithm\n",
    "    n_atoms - number of atoms in the dictionary\n",
    "    \n",
    "    returns: \n",
    "    Dictionary (D) and sparse coefficients (Z)\n",
    "    \n",
    "    \"\"\"\n",
    "    D = init_dictionary(size(x,1),n_atoms)\n",
    "    Z = zeros(n_atoms,size(x,2))\n",
    "\n",
    "    for i in ProgressBar(1:nb_iters)\n",
    "        B = Z + (1/α)*transpose(D)*(x-D*Z)\n",
    "        Ub, Sb, Vb = svd(transpose(B)*B, full=true)\n",
    "        Z = B*inv(Vb)*max(0,norm(B)-λ/(2*α))\n",
    "        D = x*transpose(Z)*inv(Z*transpose(Z))\n",
    "    end\n",
    "    return D,Z  \n",
    "end"
   ]
  },
  {
   "cell_type": "markdown",
   "metadata": {},
   "source": [
    "Learning the sucessive dictionaries: _(Deep)_"
   ]
  },
  {
   "cell_type": "code",
   "execution_count": null,
   "metadata": {},
   "outputs": [],
   "source": [
    "function learn(X)\n",
    "    λ = 0.01\n",
    "    α = 0.01\n",
    "    D1,Z1 = dense_dict_learning(X,nb_iters,300)\n",
    "    D2,Z2 = dense_dict_learning(Z1,nb_iters,15)\n",
    "    D3,Z3 = sparse_dict_learning(x,nb_iters,n_atoms,λ,α)\n",
    "    \n",
    "    return D1,D2,D3\n",
    "end"
   ]
  }
 ],
 "metadata": {
  "kernelspec": {
   "display_name": "Julia 1.2.0",
   "language": "julia",
   "name": "julia-1.2"
  },
  "language_info": {
   "file_extension": ".jl",
   "mimetype": "application/julia",
   "name": "julia",
   "version": "1.2.0"
  }
 },
 "nbformat": 4,
 "nbformat_minor": 2
}
